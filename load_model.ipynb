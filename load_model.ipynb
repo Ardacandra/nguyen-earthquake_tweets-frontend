{
 "metadata": {
  "language_info": {
   "codemirror_mode": {
    "name": "ipython",
    "version": 3
   },
   "file_extension": ".py",
   "mimetype": "text/x-python",
   "name": "python",
   "nbconvert_exporter": "python",
   "pygments_lexer": "ipython3",
   "version": "3.8.3-final"
  },
  "orig_nbformat": 2,
  "kernelspec": {
   "name": "python3",
   "display_name": "Python 3.8.3 64-bit",
   "metadata": {
    "interpreter": {
     "hash": "7ec3019a7cb8f5739f8b27d55fc304c51580b268fd2b34191f81e31e11772118"
    }
   }
  }
 },
 "nbformat": 4,
 "nbformat_minor": 2,
 "cells": [
  {
   "cell_type": "code",
   "execution_count": 1,
   "metadata": {},
   "outputs": [],
   "source": [
    "import pandas as pd\n",
    "import numpy as np\n",
    "import re\n",
    "import string\n",
    "import nltk\n",
    "from sklearn.model_selection import train_test_split\n",
    "from sklearn.metrics import classification_report\n",
    "from keras.preprocessing.text import Tokenizer\n",
    "from keras.preprocessing.sequence import pad_sequences\n",
    "from keras import models\n",
    "from keras.layers import Embedding, Dense, Conv1D, MaxPooling1D, Flatten"
   ]
  },
  {
   "cell_type": "code",
   "execution_count": 2,
   "metadata": {},
   "outputs": [
    {
     "output_type": "execute_result",
     "data": {
      "text/plain": [
       "             Tweet ID                                         Tweet Text  \\\n",
       "0  242883454050648064  #earthquake M 3.3, Virgin Islands region: Sept...   \n",
       "1  242887379944366080     @EarthquakeTest update your #earthquake s more   \n",
       "2  242919634125328384  RT @RedazioneWebAL: #Terremoto, Costi (Pd): ta...   \n",
       "3  242920737223106561  #Earthquake M 2.6, Southern Alaska http://t.co...   \n",
       "4  242936558158757889  ５年６ヶ月長期保存可能なえいようかん5本。http://t.co/ZlSVctfi #eqj...   \n",
       "\n",
       "   Information Source  Information Type  Informativeness  \n",
       "0         Not labeled       Not labeled      Not related  \n",
       "1         Not labeled       Not labeled      Not related  \n",
       "2         Not labeled       Not labeled      Not related  \n",
       "3         Not labeled       Not labeled      Not related  \n",
       "4         Not labeled       Not labeled   Not applicable  "
      ],
      "text/html": "<div>\n<style scoped>\n    .dataframe tbody tr th:only-of-type {\n        vertical-align: middle;\n    }\n\n    .dataframe tbody tr th {\n        vertical-align: top;\n    }\n\n    .dataframe thead th {\n        text-align: right;\n    }\n</style>\n<table border=\"1\" class=\"dataframe\">\n  <thead>\n    <tr style=\"text-align: right;\">\n      <th></th>\n      <th>Tweet ID</th>\n      <th>Tweet Text</th>\n      <th>Information Source</th>\n      <th>Information Type</th>\n      <th>Informativeness</th>\n    </tr>\n  </thead>\n  <tbody>\n    <tr>\n      <th>0</th>\n      <td>242883454050648064</td>\n      <td>#earthquake M 3.3, Virgin Islands region: Sept...</td>\n      <td>Not labeled</td>\n      <td>Not labeled</td>\n      <td>Not related</td>\n    </tr>\n    <tr>\n      <th>1</th>\n      <td>242887379944366080</td>\n      <td>@EarthquakeTest update your #earthquake s more</td>\n      <td>Not labeled</td>\n      <td>Not labeled</td>\n      <td>Not related</td>\n    </tr>\n    <tr>\n      <th>2</th>\n      <td>242919634125328384</td>\n      <td>RT @RedazioneWebAL: #Terremoto, Costi (Pd): ta...</td>\n      <td>Not labeled</td>\n      <td>Not labeled</td>\n      <td>Not related</td>\n    </tr>\n    <tr>\n      <th>3</th>\n      <td>242920737223106561</td>\n      <td>#Earthquake M 2.6, Southern Alaska http://t.co...</td>\n      <td>Not labeled</td>\n      <td>Not labeled</td>\n      <td>Not related</td>\n    </tr>\n    <tr>\n      <th>4</th>\n      <td>242936558158757889</td>\n      <td>５年６ヶ月長期保存可能なえいようかん5本。http://t.co/ZlSVctfi #eqj...</td>\n      <td>Not labeled</td>\n      <td>Not labeled</td>\n      <td>Not applicable</td>\n    </tr>\n  </tbody>\n</table>\n</div>"
     },
     "metadata": {},
     "execution_count": 2
    }
   ],
   "source": [
    "data = pd.read_csv(\"combined_tweets.csv\")\n",
    "data.head()"
   ]
  },
  {
   "cell_type": "code",
   "execution_count": 3,
   "metadata": {},
   "outputs": [
    {
     "output_type": "execute_result",
     "data": {
      "text/plain": [
       "                                          Tweet Text  Informativeness\n",
       "0  #earthquake M 3.3, Virgin Islands region: Sept...      Not related\n",
       "1     @EarthquakeTest update your #earthquake s more      Not related\n",
       "2  RT @RedazioneWebAL: #Terremoto, Costi (Pd): ta...      Not related\n",
       "3  #Earthquake M 2.6, Southern Alaska http://t.co...      Not related\n",
       "4  ５年６ヶ月長期保存可能なえいようかん5本。http://t.co/ZlSVctfi #eqj...   Not applicable"
      ],
      "text/html": "<div>\n<style scoped>\n    .dataframe tbody tr th:only-of-type {\n        vertical-align: middle;\n    }\n\n    .dataframe tbody tr th {\n        vertical-align: top;\n    }\n\n    .dataframe thead th {\n        text-align: right;\n    }\n</style>\n<table border=\"1\" class=\"dataframe\">\n  <thead>\n    <tr style=\"text-align: right;\">\n      <th></th>\n      <th>Tweet Text</th>\n      <th>Informativeness</th>\n    </tr>\n  </thead>\n  <tbody>\n    <tr>\n      <th>0</th>\n      <td>#earthquake M 3.3, Virgin Islands region: Sept...</td>\n      <td>Not related</td>\n    </tr>\n    <tr>\n      <th>1</th>\n      <td>@EarthquakeTest update your #earthquake s more</td>\n      <td>Not related</td>\n    </tr>\n    <tr>\n      <th>2</th>\n      <td>RT @RedazioneWebAL: #Terremoto, Costi (Pd): ta...</td>\n      <td>Not related</td>\n    </tr>\n    <tr>\n      <th>3</th>\n      <td>#Earthquake M 2.6, Southern Alaska http://t.co...</td>\n      <td>Not related</td>\n    </tr>\n    <tr>\n      <th>4</th>\n      <td>５年６ヶ月長期保存可能なえいようかん5本。http://t.co/ZlSVctfi #eqj...</td>\n      <td>Not applicable</td>\n    </tr>\n  </tbody>\n</table>\n</div>"
     },
     "metadata": {},
     "execution_count": 3
    }
   ],
   "source": [
    "data = data[[\" Tweet Text\", \" Informativeness\"]]\n",
    "data.head()"
   ]
  },
  {
   "cell_type": "code",
   "execution_count": 4,
   "metadata": {},
   "outputs": [],
   "source": [
    "def clean_text(text):\n",
    "  \"\"\"\n",
    "  fungsi untuk menghilangkan link, whitespace, melower case,\n",
    "  dan menghapus tanda baca dan angka\n",
    "  \"\"\"\n",
    "  #menghapus link\n",
    "  text = re.sub(\"\\w+:\\/{2}[\\d\\w-]+(\\.[\\d\\w-]+)*(?:(?:\\/[^\\s/]*))*\", \" \", text)\n",
    "  #menghilangkan whitespace\n",
    "  text = re.sub('\\s+', ' ', text).strip()\n",
    "  #menghapus tanda baca\n",
    "  text = text.translate(str.maketrans(string.punctuation, ' '*len(string.punctuation)))\n",
    "  #menjadikan huruf kecil\n",
    "  text = text.lower()\n",
    "  #menghapus angka\n",
    "  text = re.sub(r'\\d+', '', text)\n",
    "  return text"
   ]
  },
  {
   "cell_type": "code",
   "execution_count": 5,
   "metadata": {},
   "outputs": [
    {
     "output_type": "execute_result",
     "data": {
      "text/plain": [
       "                                          Tweet Text  Informativeness\n",
       "0   earthquake m    virgin islands region  septem...      Not related\n",
       "1      earthquaketest update your  earthquake s more      Not related\n",
       "2  rt  redazionewebal   terremoto  costi  pd   ta...      Not related\n",
       "3                    earthquake m    southern alaska      Not related\n",
       "4  年ヶ月長期保存可能なえいようかん本。  eqjp  quake  saigai  earth...   Not applicable"
      ],
      "text/html": "<div>\n<style scoped>\n    .dataframe tbody tr th:only-of-type {\n        vertical-align: middle;\n    }\n\n    .dataframe tbody tr th {\n        vertical-align: top;\n    }\n\n    .dataframe thead th {\n        text-align: right;\n    }\n</style>\n<table border=\"1\" class=\"dataframe\">\n  <thead>\n    <tr style=\"text-align: right;\">\n      <th></th>\n      <th>Tweet Text</th>\n      <th>Informativeness</th>\n    </tr>\n  </thead>\n  <tbody>\n    <tr>\n      <th>0</th>\n      <td>earthquake m    virgin islands region  septem...</td>\n      <td>Not related</td>\n    </tr>\n    <tr>\n      <th>1</th>\n      <td>earthquaketest update your  earthquake s more</td>\n      <td>Not related</td>\n    </tr>\n    <tr>\n      <th>2</th>\n      <td>rt  redazionewebal   terremoto  costi  pd   ta...</td>\n      <td>Not related</td>\n    </tr>\n    <tr>\n      <th>3</th>\n      <td>earthquake m    southern alaska</td>\n      <td>Not related</td>\n    </tr>\n    <tr>\n      <th>4</th>\n      <td>年ヶ月長期保存可能なえいようかん本。  eqjp  quake  saigai  earth...</td>\n      <td>Not applicable</td>\n    </tr>\n  </tbody>\n</table>\n</div>"
     },
     "metadata": {},
     "execution_count": 5
    }
   ],
   "source": [
    "data[\" Tweet Text\"] = data[\" Tweet Text\"].apply(lambda x:clean_text(x)) \n",
    "data.head()"
   ]
  },
  {
   "cell_type": "code",
   "execution_count": 6,
   "metadata": {},
   "outputs": [
    {
     "output_type": "execute_result",
     "data": {
      "text/plain": [
       "Not related                      3586\n",
       "Related and informative          2547\n",
       "Related - but not informative    1210\n",
       "Not applicable                    116\n",
       "Name:  Informativeness, dtype: int64"
      ]
     },
     "metadata": {},
     "execution_count": 6
    }
   ],
   "source": [
    "data[\" Informativeness\"].value_counts()"
   ]
  },
  {
   "cell_type": "code",
   "execution_count": 7,
   "metadata": {},
   "outputs": [
    {
     "output_type": "execute_result",
     "data": {
      "text/plain": [
       "                                          Tweet Text   Informativeness\n",
       "0   earthquake m    virgin islands region  septem...                 0\n",
       "1      earthquaketest update your  earthquake s more                 0\n",
       "2  rt  redazionewebal   terremoto  costi  pd   ta...                 0\n",
       "3                    earthquake m    southern alaska                 0\n",
       "4  年ヶ月長期保存可能なえいようかん本。  eqjp  quake  saigai  earth...                 0"
      ],
      "text/html": "<div>\n<style scoped>\n    .dataframe tbody tr th:only-of-type {\n        vertical-align: middle;\n    }\n\n    .dataframe tbody tr th {\n        vertical-align: top;\n    }\n\n    .dataframe thead th {\n        text-align: right;\n    }\n</style>\n<table border=\"1\" class=\"dataframe\">\n  <thead>\n    <tr style=\"text-align: right;\">\n      <th></th>\n      <th>Tweet Text</th>\n      <th>Informativeness</th>\n    </tr>\n  </thead>\n  <tbody>\n    <tr>\n      <th>0</th>\n      <td>earthquake m    virgin islands region  septem...</td>\n      <td>0</td>\n    </tr>\n    <tr>\n      <th>1</th>\n      <td>earthquaketest update your  earthquake s more</td>\n      <td>0</td>\n    </tr>\n    <tr>\n      <th>2</th>\n      <td>rt  redazionewebal   terremoto  costi  pd   ta...</td>\n      <td>0</td>\n    </tr>\n    <tr>\n      <th>3</th>\n      <td>earthquake m    southern alaska</td>\n      <td>0</td>\n    </tr>\n    <tr>\n      <th>4</th>\n      <td>年ヶ月長期保存可能なえいようかん本。  eqjp  quake  saigai  earth...</td>\n      <td>0</td>\n    </tr>\n  </tbody>\n</table>\n</div>"
     },
     "metadata": {},
     "execution_count": 7
    }
   ],
   "source": [
    "#mengubah informativeness menjadi 1 jika \"Related and informative\" dan 0 jika tidak\n",
    "data[\" Informativeness\"] = data[\" Informativeness\"].apply(lambda x:1 if x==\"Related and informative\" else 0)\n",
    "data.head()"
   ]
  },
  {
   "cell_type": "code",
   "execution_count": 8,
   "metadata": {},
   "outputs": [],
   "source": [
    "#split data menjadi train dan test\n",
    "train, test = train_test_split(data, test_size=0.2, random_state=42)\n",
    "X_train = train[\" Tweet Text\"]\n",
    "y_train = train[\" Informativeness\"]\n",
    "X_test = test[\" Tweet Text\"]\n",
    "y_test = test[\" Informativeness\"]"
   ]
  },
  {
   "cell_type": "code",
   "execution_count": 9,
   "metadata": {},
   "outputs": [],
   "source": [
    "NB_WORDS = 10000 #jumlah kata di dictionary\n",
    "tk = Tokenizer(num_words=NB_WORDS, split=\" \")\n",
    "tk.fit_on_texts(X_train)\n",
    "X_train_seq = tk.texts_to_sequences(X_train)\n",
    "X_test_seq = tk.texts_to_sequences(X_test)"
   ]
  },
  {
   "cell_type": "code",
   "execution_count": 10,
   "metadata": {},
   "outputs": [],
   "source": [
    "MAX_LEN = 30 #jumlah kata maksimum di setiap sequence\n",
    "X_train_seq_trunc = pad_sequences(X_train_seq, maxlen=MAX_LEN)\n",
    "X_test_seq_trunc = pad_sequences(X_test_seq, maxlen=MAX_LEN)"
   ]
  },
  {
   "cell_type": "code",
   "execution_count": 11,
   "metadata": {},
   "outputs": [],
   "source": [
    "#memecah data train menjadi train dan validation\n",
    "X_train_emb, X_valid_emb, y_train_emb, y_valid_emb = train_test_split(\n",
    "                                                        X_train_seq_trunc, \n",
    "                                                        y_train, \n",
    "                                                        test_size=0.1,\n",
    "                                                        random_state=42)"
   ]
  },
  {
   "source": [
    "LOAD MODEL"
   ],
   "cell_type": "markdown",
   "metadata": {}
  },
  {
   "cell_type": "code",
   "execution_count": 14,
   "metadata": {},
   "outputs": [
    {
     "output_type": "stream",
     "name": "stdout",
     "text": [
      "Loaded model from disk\n"
     ]
    }
   ],
   "source": [
    "# load json and create model\n",
    "path = \"\"\n",
    "json_file = open(path+'model.json', 'r')\n",
    "loaded_model_json = json_file.read()\n",
    "json_file.close()\n",
    "loaded_model = models.model_from_json(loaded_model_json)\n",
    "# load weights into new model\n",
    "loaded_model.load_weights(path+\"model.h5\")\n",
    "print(\"Loaded model from disk\")"
   ]
  },
  {
   "cell_type": "code",
   "execution_count": 15,
   "metadata": {},
   "outputs": [
    {
     "output_type": "stream",
     "name": "stdout",
     "text": [
      "WARNING:tensorflow:From <ipython-input-15-a99e231a265f>:1: Sequential.predict_classes (from tensorflow.python.keras.engine.sequential) is deprecated and will be removed after 2021-01-01.\n",
      "Instructions for updating:\n",
      "Please use instead:* `np.argmax(model.predict(x), axis=-1)`,   if your model does multi-class classification   (e.g. if it uses a `softmax` last-layer activation).* `(model.predict(x) > 0.5).astype(\"int32\")`,   if your model does binary classification   (e.g. if it uses a `sigmoid` last-layer activation).\n",
      "              precision    recall  f1-score   support\n",
      "\n",
      "           0       0.93      0.93      0.93       972\n",
      "           1       0.87      0.87      0.87       521\n",
      "\n",
      "    accuracy                           0.91      1493\n",
      "   macro avg       0.90      0.90      0.90      1493\n",
      "weighted avg       0.91      0.91      0.91      1493\n",
      "\n"
     ]
    }
   ],
   "source": [
    "y_preds = loaded_model.predict_classes(X_test_seq_trunc)\n",
    "print(classification_report(y_test, y_preds))"
   ]
  },
  {
   "cell_type": "code",
   "execution_count": null,
   "metadata": {},
   "outputs": [],
   "source": []
  }
 ]
}